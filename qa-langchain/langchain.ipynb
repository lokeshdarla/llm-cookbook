{
  "cells": [
    {
      "cell_type": "code",
      "execution_count": 4,
      "metadata": {
        "colab": {
          "base_uri": "https://localhost:8080/"
        },
        "id": "rUHirDthqz41",
        "outputId": "d2beaef0-90af-4dd6-f32d-577aa6a888eb"
      },
      "outputs": [
        {
          "name": "stdout",
          "output_type": "stream",
          "text": [
            "hello world\n"
          ]
        }
      ],
      "source": [
        "print(\"hello world\")"
      ]
    },
    {
      "cell_type": "code",
      "execution_count": 12,
      "metadata": {
        "colab": {
          "base_uri": "https://localhost:8080/"
        },
        "id": "54rLjiv5q0l8",
        "outputId": "0be502d3-e015-44eb-a350-57a2a2a9759f"
      },
      "outputs": [
        {
          "name": "stdout",
          "output_type": "stream",
          "text": [
            "\u001b[2K     \u001b[90m━━━━━━━━━━━━━━━━━━━━━━━━━━━━━━━━━━━━━━━━\u001b[0m \u001b[32m2.2/2.2 MB\u001b[0m \u001b[31m10.5 MB/s\u001b[0m eta \u001b[36m0:00:00\u001b[0m\n",
            "\u001b[2K     \u001b[90m━━━━━━━━━━━━━━━━━━━━━━━━━━━━━━━━━━━━━━━━\u001b[0m \u001b[32m49.2/49.2 kB\u001b[0m \u001b[31m5.5 MB/s\u001b[0m eta \u001b[36m0:00:00\u001b[0m\n",
            "\u001b[?25h"
          ]
        }
      ],
      "source": [
        "!pip install -q openai langchain huggingface_hub langchain_community"
      ]
    },
    {
      "cell_type": "code",
      "execution_count": 13,
      "metadata": {
        "id": "8edm4BI6rWtf"
      },
      "outputs": [],
      "source": [
        "from langchain.llms import OpenAI"
      ]
    },
    {
      "cell_type": "code",
      "execution_count": 14,
      "metadata": {
        "id": "lljdIyKjreEQ"
      },
      "outputs": [],
      "source": [
        "import os\n",
        "os.environ[\"OPEN_API_KEY\"]=\"sk-xx\""
      ]
    },
    {
      "cell_type": "code",
      "execution_count": 16,
      "metadata": {
        "id": "8QyJLtewtPmr"
      },
      "outputs": [],
      "source": [
        "llm=OpenAI(temperature=0.2,openai_api_key=os.environ[\"OPEN_API_KEY\"])"
      ]
    },
    {
      "cell_type": "code",
      "execution_count": 18,
      "metadata": {
        "id": "jlRXUW2Dtqr0"
      },
      "outputs": [],
      "source": [
        "# text=\"What is the capital of India\"\n",
        "\n",
        "# print(llm.predict(text))"
      ]
    },
    {
      "cell_type": "code",
      "execution_count": 44,
      "metadata": {
        "id": "5MOlq-ZxuEyO"
      },
      "outputs": [],
      "source": [
        "os.environ[\"HUGGINGFACEHUB_API_TOKEN\"]=\"hf_xx\""
      ]
    },
    {
      "cell_type": "code",
      "execution_count": 45,
      "metadata": {
        "colab": {
          "base_uri": "https://localhost:8080/"
        },
        "id": "y-rk0fFbECSf",
        "outputId": "48ea140a-fa68-40bf-8c52-f12346768746"
      },
      "outputs": [
        {
          "name": "stdout",
          "output_type": "stream",
          "text": [
            "Moscow\n"
          ]
        }
      ],
      "source": [
        "import os\n",
        "from langchain import HuggingFaceHub\n",
        "\n",
        "\n",
        "llm_hf = HuggingFaceHub(\n",
        "    huggingfacehub_api_token=os.environ[\"HUGGINGFACEHUB_API_TOKEN\"],\n",
        "    repo_id=\"google/flan-t5-large\",\n",
        "    model_kwargs={\"temperature\": 0, \"max_length\": 64}\n",
        ")\n",
        "\n",
        "output=llm_hf.predict(\"can yu tell me the capital of Russia\")\n",
        "print(output)"
      ]
    },
    {
      "cell_type": "code",
      "execution_count": 46,
      "metadata": {
        "colab": {
          "base_uri": "https://localhost:8080/"
        },
        "id": "O7OccNYvCPOy",
        "outputId": "958ac6a7-461a-4751-d96e-cf54abad3809"
      },
      "outputs": [
        {
          "name": "stdout",
          "output_type": "stream",
          "text": [
            "i love you i love you i love you i love you i love you i love you i love you i love you i love you i love you i love you i love you i love you i love you i love you i love\n"
          ]
        }
      ],
      "source": [
        "output=llm_hf.predict(\"can you write me a poem in 30 words\")\n",
        "print(output)"
      ]
    },
    {
      "cell_type": "markdown",
      "metadata": {
        "id": "YdFxqEC9FKRx"
      },
      "source": [
        "## Prompt Templates"
      ]
    },
    {
      "cell_type": "code",
      "execution_count": 47,
      "metadata": {
        "colab": {
          "base_uri": "https://localhost:8080/",
          "height": 35
        },
        "id": "mUgtBA0MEzgz",
        "outputId": "8b8cc8d6-42f2-42f2-8be5-e988ddc21d1c"
      },
      "outputs": [
        {
          "data": {
            "application/vnd.google.colaboratory.intrinsic+json": {
              "type": "string"
            },
            "text/plain": [
              "'Tell me the capital of this India'"
            ]
          },
          "execution_count": 47,
          "metadata": {},
          "output_type": "execute_result"
        }
      ],
      "source": [
        "from langchain.prompts import PromptTemplate\n",
        "\n",
        "prompt_template=PromptTemplate(input_variables=['country'],template=\"Tell me the capital of this {country}\")\n",
        "prompt_template.format(country=\"India\")"
      ]
    },
    {
      "cell_type": "code",
      "execution_count": 53,
      "metadata": {
        "colab": {
          "base_uri": "https://localhost:8080/",
          "height": 35
        },
        "id": "iqu0JoZkGQSe",
        "outputId": "a604885c-b0c3-466b-b156-52253e9421c3"
      },
      "outputs": [
        {
          "data": {
            "application/vnd.google.colaboratory.intrinsic+json": {
              "type": "string"
            },
            "text/plain": [
              "'san francisco'"
            ]
          },
          "execution_count": 53,
          "metadata": {},
          "output_type": "execute_result"
        }
      ],
      "source": [
        "from langchain.chains import LLMChain\n",
        "chain=LLMChain(llm=llm_hf,prompt=prompt_template)\n",
        "chain.run(\"America\")"
      ]
    },
    {
      "cell_type": "markdown",
      "metadata": {
        "id": "wc4jITCSG1wW"
      },
      "source": [
        "## Combining Multiple Chains Using Simple Sequential Chains"
      ]
    },
    {
      "cell_type": "code",
      "execution_count": 61,
      "metadata": {
        "colab": {
          "base_uri": "https://localhost:8080/",
          "height": 35
        },
        "id": "rzH5sX8hGXA8",
        "outputId": "1db5c5ba-2219-4f6b-b74f-ef7eca8e9c87"
      },
      "outputs": [
        {
          "data": {
            "application/vnd.google.colaboratory.intrinsic+json": {
              "type": "string"
            },
            "text/plain": [
              "'New York City'"
            ]
          },
          "execution_count": 61,
          "metadata": {},
          "output_type": "execute_result"
        }
      ],
      "source": [
        "capital_template=PromptTemplate(input_variables=['country'],template=\"Please tell me the captial of {country}\")\n",
        "\n",
        "capital_chain=LLMChain(llm=llm_hf,prompt=capital_template)\n",
        "\n",
        "famous_template=PromptTemplate(input_variables=['capital'],template=\"Suggest me some amazing places to visit in {capital}\")\n",
        "\n",
        "famous_chain=LLMChain(llm=llm_hf,prompt=famous_template)\n",
        "\n",
        "from langchain.chains import SimpleSequentialChain\n",
        "\n",
        "chain=SimpleSequentialChain(chains=[capital_chain,famous_chain])\n",
        "\n",
        "chain.run(\"India\")"
      ]
    },
    {
      "cell_type": "markdown",
      "metadata": {
        "id": "nvTAhENWJPBQ"
      },
      "source": [
        "All at once"
      ]
    },
    {
      "cell_type": "code",
      "execution_count": 80,
      "metadata": {
        "colab": {
          "base_uri": "https://localhost:8080/"
        },
        "id": "qVZeVeFSHiFm",
        "outputId": "91cc6dc3-b1d8-4201-f0fb-f286a7acdaf9"
      },
      "outputs": [
        {
          "name": "stdout",
          "output_type": "stream",
          "text": [
            "The Temple of Lord Vishnu\n"
          ]
        }
      ],
      "source": [
        "from langchain import HuggingFaceHub, PromptTemplate, LLMChain\n",
        "from langchain.chains import SimpleSequentialChain\n",
        "import os\n",
        "\n",
        "llm_hf = HuggingFaceHub(\n",
        "    huggingfacehub_api_token=os.environ[\"HUGGINGFACEHUB_API_TOKEN\"],\n",
        "    repo_id=\"google/flan-t5-large\",\n",
        "    model_kwargs={\"temperature\": 0.1, \"max_length\": 64}\n",
        ")\n",
        "\n",
        "capital_template = PromptTemplate(input_variables=['country'], template=\"Please tell me the capital of {country}\",output=\"capital\")\n",
        "famous_template = PromptTemplate(input_variables=['capital'], template=\"Suggest me some amazing places to visit in {capital}\",output=\"places\")\n",
        "\n",
        "capital_chain = LLMChain(llm=llm_hf, prompt=capital_template)\n",
        "famous_chain = LLMChain(llm=llm_hf, prompt=famous_template)\n",
        "\n",
        "chain = SimpleSequentialChain(chains=[capital_chain, famous_chain])\n",
        "\n",
        "output = chain.run(\"India\")\n",
        "print(output)"
      ]
    },
    {
      "cell_type": "markdown",
      "metadata": {
        "id": "NZTjvjA4LDuU"
      },
      "source": [
        "## Sequential Chains"
      ]
    },
    {
      "cell_type": "code",
      "execution_count": 81,
      "metadata": {
        "id": "VQqSlBF3JtTP"
      },
      "outputs": [],
      "source": [
        "capital_template=PromptTemplate(input_variables=['country'],\n",
        "template=\"Please tell me the capital of the {country}\")\n",
        "\n",
        "capital_chain=LLMChain(llm=llm_hf,prompt=capital_template,output_key=\"capital\")"
      ]
    },
    {
      "cell_type": "code",
      "execution_count": 82,
      "metadata": {
        "id": "PUUMdAhlLJeL"
      },
      "outputs": [],
      "source": [
        "famous_template=PromptTemplate(input_variables=['capital'],\n",
        "template=\"Suggest me some amazing places to visit in {capital}\")\n",
        "\n",
        "famous_chain=LLMChain(llm=llm_hf,prompt=famous_template,output_key=\"places\")"
      ]
    },
    {
      "cell_type": "code",
      "execution_count": 83,
      "metadata": {
        "id": "GhgFp-gULNCq"
      },
      "outputs": [],
      "source": [
        "from langchain.chains import SequentialChain\n",
        "\n",
        "chain=SequentialChain(chains=[capital_chain,famous_chain],\n",
        "input_variables=['country'],\n",
        "output_variables=['capital',\"places\"])"
      ]
    },
    {
      "cell_type": "code",
      "execution_count": 84,
      "metadata": {
        "colab": {
          "base_uri": "https://localhost:8080/"
        },
        "id": "gs185lNZLW1B",
        "outputId": "48368055-9ed0-4149-adc2-557dedb6de5a"
      },
      "outputs": [
        {
          "data": {
            "text/plain": [
              "{'country': 'India',\n",
              " 'capital': 'chennai',\n",
              " 'places': 'The Temple of Lord Vishnu'}"
            ]
          },
          "execution_count": 84,
          "metadata": {},
          "output_type": "execute_result"
        }
      ],
      "source": [
        "chain({'country':\"India\"})"
      ]
    }
  ],
  "metadata": {
    "colab": {
      "provenance": [],
      "toc_visible": true
    },
    "kernelspec": {
      "display_name": "Python 3",
      "name": "python3"
    },
    "language_info": {
      "name": "python"
    }
  },
  "nbformat": 4,
  "nbformat_minor": 0
}
